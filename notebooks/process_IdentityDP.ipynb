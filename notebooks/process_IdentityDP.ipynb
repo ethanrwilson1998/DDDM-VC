{
 "cells": [
  {
   "cell_type": "code",
   "execution_count": null,
   "metadata": {},
   "outputs": [],
   "source": [
    "import sys\n",
    "\n",
    "# append top level dir to our path\n",
    "\n",
    "sys.path.append(\"../\")"
   ]
  },
  {
   "cell_type": "code",
   "execution_count": null,
   "metadata": {},
   "outputs": [],
   "source": [
    "from dotmap import DotMap\n",
    "\n",
    "from inference_batch import process_folder\n",
    "\n",
    "a = DotMap()\n",
    "a.audio_folder = \"D:/vox1_test_wav\"\n",
    "a.ckpt_model = \"../ckpt/model_base.pth\"\n",
    "a.ckpt_voc = \"../vocoder/voc_ckpt.pth\"\n",
    "a.ckpt_f0_vqvae = \"../f0_vqvae/f0_vqvae.pth\"\n",
    "a.time_step = 6\n",
    "a.method = \"IdentityDP\"\n",
    "a.theta = 0\n",
    "\n",
    "for eps in [1, 10, 50, 100, 200]:\n",
    "    a.epsilon = eps\n",
    "\n",
    "    process_folder(a)"
   ]
  }
 ],
 "metadata": {
  "kernelspec": {
   "display_name": "DDDM-VC",
   "language": "python",
   "name": "python3"
  },
  "language_info": {
   "codemirror_mode": {
    "name": "ipython",
    "version": 3
   },
   "file_extension": ".py",
   "mimetype": "text/x-python",
   "name": "python",
   "nbconvert_exporter": "python",
   "pygments_lexer": "ipython3",
   "version": "3.9.21"
  }
 },
 "nbformat": 4,
 "nbformat_minor": 2
}
