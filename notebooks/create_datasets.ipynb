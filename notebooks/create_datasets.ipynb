{
 "cells": [
  {
   "cell_type": "code",
   "execution_count": null,
   "metadata": {},
   "outputs": [],
   "source": [
    "import sys\n",
    "\n",
    "# append top level dir to our path\n",
    "\n",
    "sys.path.append(\"../\")"
   ]
  },
  {
   "cell_type": "code",
   "execution_count": null,
   "metadata": {},
   "outputs": [],
   "source": [
    "from dotmap import DotMap\n",
    "\n",
    "from inference_batch import process_folder\n",
    "\n",
    "a = DotMap()\n",
    "a.audio_folder = \"D:/vox1_test_wav\"\n",
    "a.ckpt_model = \"../ckpt/model_base.pth\"\n",
    "a.ckpt_voc = \"../vocoder/voc_ckpt.pth\"\n",
    "a.ckpt_f0_vqvae = \"../f0_vqvae/f0_vqvae.pth\"\n",
    "a.time_step = 6\n",
    "a.theta = 0\n",
    "\n",
    "for method in [\"VoiceVMF\", \"IdentityDP\"]:\n",
    "    a.method = method\n",
    "    for eps in [1, 10, 50, 100, 200]:\n",
    "        a.epsilon = eps\n",
    "\n",
    "        process_folder(a)"
   ]
  }
 ],
 "metadata": {
  "language_info": {
   "name": "python"
  }
 },
 "nbformat": 4,
 "nbformat_minor": 2
}
