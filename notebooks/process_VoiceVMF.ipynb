{
 "cells": [
  {
   "cell_type": "code",
   "execution_count": 1,
   "metadata": {},
   "outputs": [],
   "source": [
    "import sys\n",
    "\n",
    "# append top level dir to our path\n",
    "\n",
    "sys.path.append(\"../\")"
   ]
  },
  {
   "cell_type": "code",
   "execution_count": 2,
   "metadata": {},
   "outputs": [
    {
     "name": "stderr",
     "output_type": "stream",
     "text": [
      "c:\\Users\\ethanwilson\\Miniconda3\\envs\\DDDM-VC\\lib\\site-packages\\tqdm\\auto.py:21: TqdmWarning: IProgress not found. Please update jupyter and ipywidgets. See https://ipywidgets.readthedocs.io/en/stable/user_install.html\n",
      "  from .autonotebook import tqdm as notebook_tqdm\n",
      "  0%|          | 0/4874 [00:00<?, ?it/s]"
     ]
    },
    {
     "name": "stdout",
     "output_type": "stream",
     "text": [
      "DEBUG:urllib3.connectionpool:Starting new HTTPS connection (1): huggingface.co:443\n",
      "DEBUG:urllib3.connectionpool:https://huggingface.co:443 \"HEAD /facebook/wav2vec2-xls-r-300m/resolve/main/config.json HTTP/1.1\" 200 0\n",
      "INFO:root:Loaded checkpoint '../f0_vqvae/f0_vqvae.pth' (iteration 77)\n",
      "INFO:root:Loaded checkpoint '../ckpt/model_base.pth' (iteration 223)\n",
      "INFO:root:Loaded checkpoint '../vocoder/voc_ckpt.pth' (iteration 1169)\n",
      "Removing weight norm...\n"
     ]
    },
    {
     "name": "stderr",
     "output_type": "stream",
     "text": [
      " 37%|███▋      | 1823/4874 [1:17:35<2:19:48,  2.75s/it]c:\\Users\\ethanwilson\\Miniconda3\\envs\\DDDM-VC\\lib\\site-packages\\amfm_decompy\\pYAAPT.py:970: RuntimeWarning: invalid value encountered in divide\n",
      "  phi[lag_min:lag_max] = formula_nume/np.sqrt(formula_denom)\n",
      "100%|██████████| 4874/4874 [3:36:46<00:00,  2.67s/it]  \n"
     ]
    },
    {
     "name": "stdout",
     "output_type": "stream",
     "text": [
      ">> Processing Complete.\n"
     ]
    },
    {
     "name": "stderr",
     "output_type": "stream",
     "text": [
      "100%|██████████| 4874/4874 [3:51:22<00:00,  2.85s/it]   \n"
     ]
    },
    {
     "name": "stdout",
     "output_type": "stream",
     "text": [
      ">> Processing Complete.\n"
     ]
    },
    {
     "name": "stderr",
     "output_type": "stream",
     "text": [
      "100%|██████████| 4874/4874 [3:18:03<00:00,  2.44s/it]  \n"
     ]
    },
    {
     "name": "stdout",
     "output_type": "stream",
     "text": [
      ">> Processing Complete.\n"
     ]
    },
    {
     "name": "stderr",
     "output_type": "stream",
     "text": [
      "100%|██████████| 4874/4874 [4:06:03<00:00,  3.03s/it]   \n"
     ]
    },
    {
     "name": "stdout",
     "output_type": "stream",
     "text": [
      ">> Processing Complete.\n"
     ]
    },
    {
     "name": "stderr",
     "output_type": "stream",
     "text": [
      "100%|██████████| 4874/4874 [3:31:17<00:00,  2.60s/it]   "
     ]
    },
    {
     "name": "stdout",
     "output_type": "stream",
     "text": [
      ">> Processing Complete.\n"
     ]
    },
    {
     "name": "stderr",
     "output_type": "stream",
     "text": [
      "\n"
     ]
    }
   ],
   "source": [
    "from dotmap import DotMap\n",
    "\n",
    "from inference_batch import process_folder\n",
    "\n",
    "a = DotMap()\n",
    "a.audio_folder = \"D:/vox1_test_wav\"\n",
    "a.ckpt_model = \"../ckpt/model_base.pth\"\n",
    "a.ckpt_voc = \"../vocoder/voc_ckpt.pth\"\n",
    "a.ckpt_f0_vqvae = \"../f0_vqvae/f0_vqvae.pth\"\n",
    "a.time_step = 6\n",
    "a.method = \"VoiceVMF\"\n",
    "a.theta = 0\n",
    "\n",
    "for eps in [1, 10, 50, 100, 200]:\n",
    "    a.epsilon = eps\n",
    "\n",
    "    process_folder(a)"
   ]
  },
  {
   "cell_type": "code",
   "execution_count": null,
   "metadata": {},
   "outputs": [],
   "source": []
  }
 ],
 "metadata": {
  "kernelspec": {
   "display_name": "DDDM-VC",
   "language": "python",
   "name": "python3"
  },
  "language_info": {
   "codemirror_mode": {
    "name": "ipython",
    "version": 3
   },
   "file_extension": ".py",
   "mimetype": "text/x-python",
   "name": "python",
   "nbconvert_exporter": "python",
   "pygments_lexer": "ipython3",
   "version": "3.9.21"
  }
 },
 "nbformat": 4,
 "nbformat_minor": 2
}
